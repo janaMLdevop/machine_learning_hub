{
 "cells": [
  {
   "cell_type": "code",
   "execution_count": 4,
   "id": "b81aaace-3ce7-42ec-9d77-260ff77d430f",
   "metadata": {},
   "outputs": [],
   "source": [
    "import pandas as pd\n",
    "data=pd.read_csv('NER dataset.csv',on_bad_lines='skip',encoding='latin-1')"
   ]
  },
  {
   "cell_type": "code",
   "execution_count": 5,
   "id": "836b7999-5d5c-48c5-8bf0-5f32ff3834af",
   "metadata": {},
   "outputs": [
    {
     "data": {
      "text/html": [
       "<div>\n",
       "<style scoped>\n",
       "    .dataframe tbody tr th:only-of-type {\n",
       "        vertical-align: middle;\n",
       "    }\n",
       "\n",
       "    .dataframe tbody tr th {\n",
       "        vertical-align: top;\n",
       "    }\n",
       "\n",
       "    .dataframe thead th {\n",
       "        text-align: right;\n",
       "    }\n",
       "</style>\n",
       "<table border=\"1\" class=\"dataframe\">\n",
       "  <thead>\n",
       "    <tr style=\"text-align: right;\">\n",
       "      <th></th>\n",
       "      <th>Sentence #</th>\n",
       "      <th>Word</th>\n",
       "      <th>POS</th>\n",
       "      <th>Tag</th>\n",
       "    </tr>\n",
       "  </thead>\n",
       "  <tbody>\n",
       "    <tr>\n",
       "      <th>0</th>\n",
       "      <td>Sentence: 1</td>\n",
       "      <td>Thousands</td>\n",
       "      <td>NNS</td>\n",
       "      <td>O</td>\n",
       "    </tr>\n",
       "    <tr>\n",
       "      <th>1</th>\n",
       "      <td>NaN</td>\n",
       "      <td>of</td>\n",
       "      <td>IN</td>\n",
       "      <td>O</td>\n",
       "    </tr>\n",
       "    <tr>\n",
       "      <th>2</th>\n",
       "      <td>NaN</td>\n",
       "      <td>demonstrators</td>\n",
       "      <td>NNS</td>\n",
       "      <td>O</td>\n",
       "    </tr>\n",
       "    <tr>\n",
       "      <th>3</th>\n",
       "      <td>NaN</td>\n",
       "      <td>have</td>\n",
       "      <td>VBP</td>\n",
       "      <td>O</td>\n",
       "    </tr>\n",
       "    <tr>\n",
       "      <th>4</th>\n",
       "      <td>NaN</td>\n",
       "      <td>marched</td>\n",
       "      <td>VBN</td>\n",
       "      <td>O</td>\n",
       "    </tr>\n",
       "  </tbody>\n",
       "</table>\n",
       "</div>"
      ],
      "text/plain": [
       "    Sentence #           Word  POS Tag\n",
       "0  Sentence: 1      Thousands  NNS   O\n",
       "1          NaN             of   IN   O\n",
       "2          NaN  demonstrators  NNS   O\n",
       "3          NaN           have  VBP   O\n",
       "4          NaN        marched  VBN   O"
      ]
     },
     "execution_count": 5,
     "metadata": {},
     "output_type": "execute_result"
    }
   ],
   "source": [
    "data.head()"
   ]
  },
  {
   "cell_type": "code",
   "execution_count": 6,
   "id": "e51120bc-e984-4bb6-8b45-b98e3463d1ff",
   "metadata": {},
   "outputs": [
    {
     "name": "stderr",
     "output_type": "stream",
     "text": [
      "C:\\Users\\vj75v\\AppData\\Local\\Temp\\ipykernel_8672\\4128842584.py:1: FutureWarning: Series.fillna with 'method' is deprecated and will raise in a future version. Use obj.ffill() or obj.bfill() instead.\n",
      "  data['Sentence #']=data['Sentence #'].fillna(method='ffill')\n"
     ]
    }
   ],
   "source": [
    "data['Sentence #']=data['Sentence #'].fillna(method='ffill')"
   ]
  },
  {
   "cell_type": "code",
   "execution_count": 75,
   "id": "dfc8e8e3-ecd9-476a-a7f4-d7c84c01283c",
   "metadata": {},
   "outputs": [
    {
     "name": "stdout",
     "output_type": "stream",
     "text": [
      "[('Thousands', 'NNS', 'O'), ('of', 'IN', 'O'), ('demonstrators', 'NNS', 'O'), ('have', 'VBP', 'O'), ('marched', 'VBN', 'O'), ('through', 'IN', 'O'), ('London', 'NNP', 'B-geo'), ('to', 'TO', 'O'), ('protest', 'VB', 'O'), ('the', 'DT', 'O'), ('war', 'NN', 'O'), ('in', 'IN', 'O'), ('Iraq', 'NNP', 'B-geo'), ('and', 'CC', 'O'), ('demand', 'VB', 'O'), ('the', 'DT', 'O'), ('withdrawal', 'NN', 'O'), ('of', 'IN', 'O'), ('British', 'JJ', 'B-gpe'), ('troops', 'NNS', 'O'), ('from', 'IN', 'O'), ('that', 'DT', 'O'), ('country', 'NN', 'O'), ('.', '.', 'O')]\n"
     ]
    },
    {
     "data": {
      "text/plain": [
       "47959"
      ]
     },
     "execution_count": 75,
     "metadata": {},
     "output_type": "execute_result"
    }
   ],
   "source": [
    "class getsentences(object):\n",
    "    def __init__(self,data):\n",
    "        self.n_words=1.0\n",
    "        self.data=data\n",
    "        self.empty=False\n",
    "        agg_fun=lambda s:[(w,t,p)for w,t,p in zip(s['Word'].values.tolist(),s['POS'].values.tolist(),s['Tag'].values.tolist())]\n",
    "        self.grouped=self.data.groupby('Sentence #').apply(agg_fun)\n",
    "        self.sentence=[s for s in self.grouped]\n",
    "getter=getsentences(data)\n",
    "sentence=getter.sentence\n",
    "print(sentence[0])\n",
    "len(sentence)"
   ]
  },
  {
   "cell_type": "code",
   "execution_count": 28,
   "id": "597a3d90-8eb8-478c-9e8b-4017aad83df2",
   "metadata": {},
   "outputs": [],
   "source": [
    "import numpy as np\n",
    "def feature_map(word):\n",
    "    return np.array([word.isalpha(),word.islower(),word.isupper(),len(word),word.isdigit()])"
   ]
  },
  {
   "cell_type": "code",
   "execution_count": 31,
   "id": "05271ba3-7bd9-4226-a039-06fd1608af0a",
   "metadata": {},
   "outputs": [],
   "source": [
    "word=[feature_map(w)for w in data[\"Word\"].astype(str).values.tolist()]\n",
    "tags=data['Tag'].values.tolist()"
   ]
  },
  {
   "cell_type": "code",
   "execution_count": 55,
   "id": "74fa9e72-f962-425c-848b-be970cf36e75",
   "metadata": {},
   "outputs": [
    {
     "data": {
      "text/plain": [
       "1048575"
      ]
     },
     "execution_count": 55,
     "metadata": {},
     "output_type": "execute_result"
    }
   ],
   "source": [
    "len(word)"
   ]
  },
  {
   "cell_type": "code",
   "execution_count": 32,
   "id": "be0487e2-c774-4116-85df-7ac45ae2180d",
   "metadata": {},
   "outputs": [
    {
     "name": "stdout",
     "output_type": "stream",
     "text": [
      "[array([1, 0, 0, 9, 0]), array([1, 1, 0, 2, 0]), array([ 1,  1,  0, 13,  0]), array([1, 1, 0, 4, 0]), array([1, 1, 0, 7, 0])]\n"
     ]
    }
   ],
   "source": [
    "print(word[:5])"
   ]
  },
  {
   "cell_type": "code",
   "execution_count": 36,
   "id": "eb452ce5-92c7-4a62-a84d-a38fcd24e66b",
   "metadata": {},
   "outputs": [],
   "source": [
    "from sklearn.model_selection import cross_val_predict,cross_val_score\n",
    "from sklearn.ensemble import RandomForestClassifier\n",
    "pred=cross_val_predict(RandomForestClassifier(),X=word,y=tags,cv=5)"
   ]
  },
  {
   "cell_type": "code",
   "execution_count": 38,
   "id": "d88fe20b-2e8e-4966-92df-78cf5aa58740",
   "metadata": {},
   "outputs": [
    {
     "name": "stderr",
     "output_type": "stream",
     "text": [
      "C:\\Users\\vj75v\\anaconda3\\Lib\\site-packages\\sklearn\\metrics\\_classification.py:1344: UndefinedMetricWarning: Precision and F-score are ill-defined and being set to 0.0 in labels with no predicted samples. Use `zero_division` parameter to control this behavior.\n",
      "  _warn_prf(average, modifier, msg_start, len(result))\n",
      "C:\\Users\\vj75v\\anaconda3\\Lib\\site-packages\\sklearn\\metrics\\_classification.py:1344: UndefinedMetricWarning: Precision and F-score are ill-defined and being set to 0.0 in labels with no predicted samples. Use `zero_division` parameter to control this behavior.\n",
      "  _warn_prf(average, modifier, msg_start, len(result))\n",
      "C:\\Users\\vj75v\\anaconda3\\Lib\\site-packages\\sklearn\\metrics\\_classification.py:1344: UndefinedMetricWarning: Precision and F-score are ill-defined and being set to 0.0 in labels with no predicted samples. Use `zero_division` parameter to control this behavior.\n",
      "  _warn_prf(average, modifier, msg_start, len(result))\n"
     ]
    }
   ],
   "source": [
    "from sklearn.metrics import classification_report \n",
    "report=classification_report(y_pred=pred,y_true=tags)"
   ]
  },
  {
   "cell_type": "code",
   "execution_count": 39,
   "id": "5e6bb292-eb48-4356-9789-0a6c385c669c",
   "metadata": {
    "scrolled": true
   },
   "outputs": [
    {
     "name": "stdout",
     "output_type": "stream",
     "text": [
      "              precision    recall  f1-score   support\n",
      "\n",
      "       B-art       0.00      0.00      0.00       402\n",
      "       B-eve       0.00      0.00      0.00       308\n",
      "       B-geo       0.26      0.79      0.40     37644\n",
      "       B-gpe       0.26      0.06      0.09     15870\n",
      "       B-nat       0.00      0.00      0.00       201\n",
      "       B-org       0.66      0.16      0.26     20143\n",
      "       B-per       0.84      0.19      0.32     16990\n",
      "       B-tim       0.29      0.32      0.30     20333\n",
      "       I-art       0.00      0.00      0.00       297\n",
      "       I-eve       0.00      0.00      0.00       253\n",
      "       I-geo       0.00      0.00      0.00      7414\n",
      "       I-gpe       0.00      0.00      0.00       198\n",
      "       I-nat       0.00      0.00      0.00        51\n",
      "       I-org       0.34      0.03      0.06     16784\n",
      "       I-per       0.36      0.01      0.02     17251\n",
      "       I-tim       0.50      0.06      0.11      6528\n",
      "           O       0.97      0.98      0.97    887908\n",
      "\n",
      "    accuracy                           0.87   1048575\n",
      "   macro avg       0.26      0.15      0.15   1048575\n",
      "weighted avg       0.88      0.87      0.86   1048575\n",
      "\n"
     ]
    }
   ],
   "source": [
    "print(report)"
   ]
  },
  {
   "cell_type": "code",
   "execution_count": null,
   "id": "e2ad0ee4-3c94-4d0a-9e34-aaf6344b4ccf",
   "metadata": {},
   "outputs": [],
   "source": []
  }
 ],
 "metadata": {
  "kernelspec": {
   "display_name": "Python 3 (ipykernel)",
   "language": "python",
   "name": "python3"
  },
  "language_info": {
   "codemirror_mode": {
    "name": "ipython",
    "version": 3
   },
   "file_extension": ".py",
   "mimetype": "text/x-python",
   "name": "python",
   "nbconvert_exporter": "python",
   "pygments_lexer": "ipython3",
   "version": "3.11.7"
  }
 },
 "nbformat": 4,
 "nbformat_minor": 5
}
